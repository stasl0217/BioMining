{
 "cells": [
  {
   "cell_type": "code",
   "execution_count": 69,
   "metadata": {
    "collapsed": true
   },
   "outputs": [],
   "source": [
    "try:\n",
    "    import xml.etree.cElementTree as ET\n",
    "except ImportError:\n",
    "    import xml.etree.ElementTree as ET\n",
    "from os import listdir\n",
    "from os.path import isfile, join"
   ]
  },
  {
   "cell_type": "code",
   "execution_count": 70,
   "metadata": {
    "collapsed": true
   },
   "outputs": [],
   "source": [
    "xmldir=r'C:\\Users\\sinte\\Desktop\\test\\output6'\n",
    "files=[join(xmldir,f) for f in listdir(xmldir) if isfile(join(xmldir,f))]"
   ]
  },
  {
   "cell_type": "markdown",
   "metadata": {},
   "source": [
    "# XML analysis"
   ]
  },
  {
   "cell_type": "code",
   "execution_count": 71,
   "metadata": {
    "collapsed": false
   },
   "outputs": [],
   "source": [
    "# create element tree\n",
    "f=files[0]  # TODO: use for loop"
   ]
  },
  {
   "cell_type": "code",
   "execution_count": 72,
   "metadata": {
    "collapsed": false
   },
   "outputs": [],
   "source": [
    "tree=ET.ElementTree(file=f)\n",
    "root=tree.getroot()  # get the root element as Element object"
   ]
  },
  {
   "cell_type": "code",
   "execution_count": 73,
   "metadata": {
    "collapsed": false
   },
   "outputs": [],
   "source": [
    "categories=['org.apache.ctakes.typesystem.type.textsem.MedicationMention',\n",
    "      'org.apache.ctakes.typesystem.type.textsem.DiseaseDisorderMention',\n",
    "      'org.apache.ctakes.typesystem.type.textsem.ProcedureMention',\n",
    "      'org.apache.ctakes.typesystem.type.textsem.SignSymptomMention',\n",
    "      'org.apache.ctakes.typesystem.type.textsem.AnatomicalSiteMention']\n",
    "N=len(categories)\n",
    "FSArray_Ids=[[] for i in range(N)]  # FSArray id from each category's '_ref_ontologyConceptArr'         "
   ]
  },
  {
   "cell_type": "markdown",
   "metadata": {},
   "source": [
    "# scan for elements of category summary"
   ]
  },
  {
   "cell_type": "code",
   "execution_count": 74,
   "metadata": {
    "collapsed": false
   },
   "outputs": [
    {
     "name": "stdout",
     "output_type": "stream",
     "text": [
      "2684\n",
      "2744\n",
      "2789\n",
      "2830\n",
      "2873\n"
     ]
    },
    {
     "data": {
      "text/plain": [
       "[['2684'], ['2744'], ['2789'], ['2830'], ['2873']]"
      ]
     },
     "execution_count": 74,
     "metadata": {},
     "output_type": "execute_result"
    }
   ],
   "source": [
    "for child in root.iter():\n",
    "    # NOTE: there should only be one element in one document for each category \n",
    "    tag=child.tag \n",
    "    # save the ontologyConceptArr(id) to FSArray_Ids\n",
    "    for i in range(0, len(categories)):\n",
    "        if tag==categories[i]:\n",
    "            cate_element=child.attrib  # dictionary\n",
    "            try:\n",
    "                id=cate_element['_ref_ontologyConceptArr']\n",
    "                print(id)\n",
    "                FSArray_Ids[i].append(id)\n",
    "            except KeyError:\n",
    "                print('cate: '+cate)\n",
    "                print('ERROR when trying to find the \"_ref_ontologyConceptArr\"')  \n",
    "    #TODO: check FSArray\n",
    "\n",
    "FSArray_Ids"
   ]
  },
  {
   "cell_type": "markdown",
   "metadata": {},
   "source": [
    "# find according FSArray and save elements"
   ]
  },
  {
   "cell_type": "code",
   "execution_count": 75,
   "metadata": {
    "collapsed": false
   },
   "outputs": [
    {
     "data": {
      "text/plain": [
       "[[], [], [], [], []]"
      ]
     },
     "execution_count": 75,
     "metadata": {},
     "output_type": "execute_result"
    }
   ],
   "source": [
    "concept_ids=[[] for i in range(N)]  # a list for each category\n",
    "\n",
    "for FSArray in root.iter(tag='uima.cas.FSArray'):\n",
    "    for i in range(N):  # category i\n",
    "        if FSArray.attrib['_id']==FSArray_Ids[i]:\n",
    "            print(FSArray.attrib['_id'])\n",
    "            for child in FSArray:\n",
    "                print(child.text)\n",
    "                concept_ids[i].append(child.text)\n",
    "\n",
    "concept_ids"
   ]
  },
  {
   "cell_type": "code",
   "execution_count": null,
   "metadata": {
    "collapsed": true
   },
   "outputs": [],
   "source": [
    "def findcate"
   ]
  },
  {
   "cell_type": "code",
   "execution_count": null,
   "metadata": {
    "collapsed": true
   },
   "outputs": [],
   "source": []
  }
 ],
 "metadata": {
  "anaconda-cloud": {},
  "kernelspec": {
   "display_name": "Python [conda root]",
   "language": "python",
   "name": "conda-root-py"
  },
  "language_info": {
   "codemirror_mode": {
    "name": "ipython",
    "version": 3
   },
   "file_extension": ".py",
   "mimetype": "text/x-python",
   "name": "python",
   "nbconvert_exporter": "python",
   "pygments_lexer": "ipython3",
   "version": "3.5.2"
  }
 },
 "nbformat": 4,
 "nbformat_minor": 0
}
