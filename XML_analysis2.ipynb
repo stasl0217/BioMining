{
 "cells": [
  {
   "cell_type": "code",
   "execution_count": 2,
   "metadata": {
    "collapsed": true
   },
   "outputs": [],
   "source": [
    "try:\n",
    "    import xml.etree.cElementTree as ET\n",
    "except ImportError:\n",
    "    import xml.etree.ElementTree as ET\n",
    "from os import listdir\n",
    "from os.path import isfile, join"
   ]
  },
  {
   "cell_type": "code",
   "execution_count": 3,
   "metadata": {
    "collapsed": true
   },
   "outputs": [],
   "source": [
    "xmldir=r'C:\\Users\\sinte\\Desktop\\test\\output6'\n",
    "files=[join(xmldir,f) for f in listdir(xmldir) if isfile(join(xmldir,f))]"
   ]
  },
  {
   "cell_type": "markdown",
   "metadata": {},
   "source": [
    "# XML analysis"
   ]
  },
  {
   "cell_type": "code",
   "execution_count": 6,
   "metadata": {
    "collapsed": false
   },
   "outputs": [],
   "source": [
    "# create element tree\n",
    "f=files[0]  # TODO: use for loop"
   ]
  },
  {
   "cell_type": "code",
   "execution_count": 18,
   "metadata": {
    "collapsed": false
   },
   "outputs": [],
   "source": [
    "tree=ET.ElementTree(file=f)\n",
    "root=tree.getroot()  # get the root element as Element object"
   ]
  },
  {
   "cell_type": "code",
   "execution_count": 1,
   "metadata": {
    "collapsed": false
   },
   "outputs": [
    {
     "ename": "NameError",
     "evalue": "name 'root' is not defined",
     "traceback": [
      "\u001b[0;31m---------------------------------------------------------------------------\u001b[0m",
      "\u001b[0;31mNameError\u001b[0m                                 Traceback (most recent call last)",
      "\u001b[0;32m<ipython-input-1-23425a755011>\u001b[0m in \u001b[0;36m<module>\u001b[0;34m()\u001b[0m\n\u001b[1;32m      7\u001b[0m \u001b[1;33m\u001b[0m\u001b[0m\n\u001b[1;32m      8\u001b[0m \u001b[1;32mfor\u001b[0m \u001b[0mcate\u001b[0m \u001b[1;32min\u001b[0m \u001b[0mcategories\u001b[0m\u001b[1;33m:\u001b[0m\u001b[1;33m\u001b[0m\u001b[0m\n\u001b[0;32m----> 9\u001b[0;31m     \u001b[1;32mfor\u001b[0m \u001b[0mchild\u001b[0m \u001b[1;32min\u001b[0m \u001b[0mroot\u001b[0m\u001b[1;33m.\u001b[0m\u001b[0miter\u001b[0m\u001b[1;33m(\u001b[0m\u001b[0mtag\u001b[0m\u001b[1;33m=\u001b[0m\u001b[0mcate\u001b[0m\u001b[1;33m)\u001b[0m\u001b[1;33m:\u001b[0m\u001b[1;33m\u001b[0m\u001b[0m\n\u001b[0m\u001b[1;32m     10\u001b[0m         \u001b[1;31m# NOTE: there should only be one element in one document for each category\u001b[0m\u001b[1;33m\u001b[0m\u001b[1;33m\u001b[0m\u001b[0m\n\u001b[1;32m     11\u001b[0m         \u001b[0mcate_element\u001b[0m\u001b[1;33m=\u001b[0m\u001b[0mchild\u001b[0m\u001b[1;33m.\u001b[0m\u001b[0mattrib\u001b[0m  \u001b[1;31m# dictionary\u001b[0m\u001b[1;33m\u001b[0m\u001b[0m\n",
      "\u001b[0;31mNameError\u001b[0m: name 'root' is not defined"
     ],
     "output_type": "error"
    }
   ],
   "source": [
    "categories=['org.apache.ctakes.typesystem.type.textsem.MedicationMention',\n",
    "      'org.apache.ctakes.typesystem.type.textsem.DiseaseDisorderMention',\n",
    "      'org.apache.ctakes.typesystem.type.textsem.ProcedureMention',\n",
    "      'org.apache.ctakes.typesystem.type.textsem.SignSymptomMention',\n",
    "      'org.apache.ctakes.typesystem.type.textsem.AnatomicalSiteMention']\n",
    "FSArray_Ids=[]  # FSArray id from each category's '_ref_ontologyConceptArr'\n",
    "\n",
    "for cate in categories:\n",
    "    for child in root.iter(tag=cate):\n",
    "        # NOTE: there should only be one element in one document for each category \n",
    "        cate_element=child.attrib  # dictionary\n",
    "        try:\n",
    "            id=cate_element['_ref_ontologyConceptArr']\n",
    "            print(id)\n",
    "            FSArray_Ids.append(id)\n",
    "        except KeyError:\n",
    "            print('cate: '+cate)\n",
    "            print('ERROR when trying to find the \"_ref_ontologyConceptArr\"')      \n",
    "\n",
    "# check if the document format is valid\n",
    "if len(FSArray_Ids)!=len(categories):\n",
    "    print('Error when anaylizing file: '+f)\n",
    "    print('FSArray_Ids:')\n",
    "    print(FSArray_Ids)\n",
    "    raise ValueError('len(FSArray_Ids)!=len(categories). the XML may not be valid')"
   ]
  },
  {
   "cell_type": "code",
   "execution_count": null,
   "metadata": {
    "collapsed": true
   },
   "outputs": [],
   "source": [
    ""
   ]
  }
 ],
 "metadata": {
  "anaconda-cloud": {},
  "kernelspec": {
   "display_name": "Python [conda root]",
   "language": "python",
   "name": "conda-root-py"
  },
  "language_info": {
   "codemirror_mode": {
    "name": "ipython",
    "version": 3.0
   },
   "file_extension": ".py",
   "mimetype": "text/x-python",
   "name": "python",
   "nbconvert_exporter": "python",
   "pygments_lexer": "ipython3",
   "version": "3.5.2"
  }
 },
 "nbformat": 4,
 "nbformat_minor": 0
}